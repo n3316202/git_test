{
 "cells": [
  {
   "attachments": {},
   "cell_type": "markdown",
   "metadata": {},
   "source": [
    "### 관련 사이트\n",
    "https://m.blog.naver.com/dnjswns2280/221605723329\n",
    "\n",
    "### 데이터 사이언스 \n",
    "https://datascienceschool.net/01%20python/03.01%20%EB%84%98%ED%8C%8C%EC%9D%B4%20%EB%B0%B0%EC%97%B4.html"
   ]
  },
  {
   "cell_type": "code",
   "execution_count": 12,
   "metadata": {},
   "outputs": [
    {
     "name": "stdout",
     "output_type": "stream",
     "text": [
      "[1 4 2 5 3]\n",
      "[3.14 4.   2.   3.  ]\n",
      "[1. 2. 3. 4.]\n"
     ]
    }
   ],
   "source": [
    "#리스트에서 배열 만들기\n",
    "import numpy as np\n",
    "\n",
    "# 리스트에서 배열 만들기\n",
    "arr = np.array([1, 4, 2, 5, 3])\n",
    "print(arr)\n",
    "\n",
    "arr = np.array([3.14, 4, 2, 3])\n",
    "print(arr)\n",
    "\n",
    "arr = np.array([1, 2, 3, 4], dtype =  'float32') # 넘파이에서는 데이타 타입을 지정해 줄수 있음\n",
    "print(arr)\n"
   ]
  },
  {
   "cell_type": "code",
   "execution_count": 28,
   "metadata": {},
   "outputs": [
    {
     "name": "stdout",
     "output_type": "stream",
     "text": [
      "[0 0 0 0 0 0 0 0 0 0]\n",
      "[[1. 1. 1. 1. 1.]\n",
      " [1. 1. 1. 1. 1.]\n",
      " [1. 1. 1. 1. 1.]]\n",
      "[[3.14 3.14 3.14 3.14 3.14]\n",
      " [3.14 3.14 3.14 3.14 3.14]\n",
      " [3.14 3.14 3.14 3.14 3.14]]\n",
      "[ 0  2  4  6  8 10 12 14 16 18]\n",
      "[0.   0.25 0.5  0.75 1.  ]\n",
      "[[0.9882611  0.91433377 0.78142526]\n",
      " [0.95433582 0.98832947 0.77471066]\n",
      " [0.64357433 0.55566827 0.26328806]]\n"
     ]
    },
    {
     "data": {
      "text/plain": [
       "array([[1, 2, 4],\n",
       "       [7, 4, 7],\n",
       "       [9, 2, 5]])"
      ]
     },
     "execution_count": 28,
     "metadata": {},
     "output_type": "execute_result"
    }
   ],
   "source": [
    "# 처음부터 배열 만들기\n",
    "arr = np.zeros(10, dtype = int) #0으로 채운 배열 생성\n",
    "print(arr)\n",
    "\n",
    "arr = np.ones((3, 5), dtype = float) #1로 채운 배열 생성\n",
    "print(arr)\n",
    "\n",
    "arr = np.full((3,5), 3.14) # 3.14로 채운 배열 만들기 \n",
    "print(arr)\n",
    "\n",
    "arr = np.arange(0, 20, 2) # 0에서 시작해 2씩 더해 20까지 채우는 배열 생성\n",
    "print(arr)\n",
    "\n",
    "arr = np.linspace(0, 1, 5) # 0과 1 사이에 일정한 간격을 가진 다섯 개의 값으로 채운 배열 만들기\n",
    "print(arr)\n",
    "\n",
    "arr = np.random.random((3,3)) # 3*3 크기의 난수 배열 생성\n",
    "print(arr)\n",
    "\n",
    "np.random.normal(0, 1, (3, 3)) # 평균 0, 표준 편차 1의 정규 분포를 따르는 3*3 난수 배열\n",
    "np.random.randint(0, 10, (3, 3)) # [0, 10) 구간의 임의로 정수로 채운 3*3 배열 만들기\n",
    "#np.eye(3) # 크기 3의 단위 행렬 만들기\n"
   ]
  },
  {
   "cell_type": "code",
   "execution_count": 14,
   "metadata": {},
   "outputs": [
    {
     "data": {
      "text/plain": [
       "dtype('int8')"
      ]
     },
     "execution_count": 14,
     "metadata": {},
     "output_type": "execute_result"
    }
   ],
   "source": [
    "#배열 속성을 지정 하여 보자\n",
    "#배열 속성 확인하기\n",
    "\n",
    "x = np.random.randint(10, size = (3, 4, 5), dtype = 'int8') \n",
    "x \n",
    "x.ndim # 3\n",
    "x.shape # (3, 4, 5)\n",
    "x.size # 60 = 3 * 4* 5\n",
    "x.dtype # int8"
   ]
  },
  {
   "cell_type": "code",
   "execution_count": 24,
   "metadata": {},
   "outputs": [],
   "source": [
    "#배열 인덱싱 - 읽는 방법\n",
    "\n",
    "x1 = np.random.randint(10, size = 6)\n",
    "x1\n",
    "x2 = np.random.randint(10, size = (3, 4))\n",
    "x2\n",
    "x3 = np.random.randint(10, size = (3, 4, 5))\n",
    "x3\n",
    "\n",
    "x1[0] # 양수 인덱스 (맨 앞 요소)\n",
    "x1[3] # 세 번째 요소 \n",
    "x1[-1] # 음수 인덱스 (맨 뒤 요소)\n",
    "x1[-4] # 뒤에서 네 번째 요소 \n",
    "\n",
    "x2[2, 0] # 2행 0열 (리스트 인덱스와 비교)\n",
    "# list[i][j] / ndarray[i, j]\n",
    "x3[1, 2, 3] # 1차원, 2행, 3열 요소\n",
    "\n",
    "x2[0, 0] = 15 # x2의 0행 0열 값을 15로 바꿈"
   ]
  }
 ],
 "metadata": {
  "kernelspec": {
   "display_name": "base",
   "language": "python",
   "name": "python3"
  },
  "language_info": {
   "codemirror_mode": {
    "name": "ipython",
    "version": 3
   },
   "file_extension": ".py",
   "mimetype": "text/x-python",
   "name": "python",
   "nbconvert_exporter": "python",
   "pygments_lexer": "ipython3",
   "version": "3.9.13"
  },
  "orig_nbformat": 4,
  "vscode": {
   "interpreter": {
    "hash": "e4cce46d6be9934fbd27f9ca0432556941ea5bdf741d4f4d64c6cd7f8dfa8fba"
   }
  }
 },
 "nbformat": 4,
 "nbformat_minor": 2
}
